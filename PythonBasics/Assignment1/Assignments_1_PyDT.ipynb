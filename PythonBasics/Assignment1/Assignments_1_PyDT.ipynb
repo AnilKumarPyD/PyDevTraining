{
 "cells": [
  {
   "cell_type": "markdown",
   "id": "f80fd57f",
   "metadata": {},
   "source": [
    "# Assignment Set 1 "
   ]
  },
  {
   "cell_type": "markdown",
   "id": "27eb9dc5",
   "metadata": {},
   "source": [
    "### Assignment 1"
   ]
  },
  {
   "cell_type": "raw",
   "id": "5d23ca99",
   "metadata": {},
   "source": [
    "Sort_by_last element\n",
    "For a given non-empty tuple list, sort by the last element in each tuple.\n",
    "e.g. [(1, 7), (1, 3), (3, 4, 5), (2, 2)] yields\n",
    "[(2, 2), (1, 3), (3, 4, 5), (1, 7)]"
   ]
  },
  {
   "cell_type": "markdown",
   "id": "04b09ec0",
   "metadata": {},
   "source": [
    "### Assignment 2"
   ]
  },
  {
   "cell_type": "raw",
   "id": "db6ac99b",
   "metadata": {},
   "source": [
    "Color pair 25 Manual\n",
    "Refer en.wikipedia.org/wiki/25-pair_color_code\n",
    "Write python program to print a manual for reference.\n",
    "Note: Use only lists to store the Major and Minor colors. The manual should be in readable format. It can be output to Text file or pdf or any other suitable format."
   ]
  },
  {
   "cell_type": "markdown",
   "id": "5b1a9c86",
   "metadata": {},
   "source": [
    "### Assignment 3"
   ]
  },
  {
   "cell_type": "raw",
   "id": "8b2cbccd",
   "metadata": {},
   "source": [
    "Star Triangle\n",
    "For a given user input number, say 3, character '*' should be printed to form a triangle as shown below:\n",
    "  *\n",
    " * *\n",
    "* * *\n",
    "The alignment must be maintained."
   ]
  },
  {
   "cell_type": "markdown",
   "id": "a5aa0ea7",
   "metadata": {},
   "source": [
    "### Assignment 4"
   ]
  },
  {
   "cell_type": "raw",
   "id": "d93b64a3",
   "metadata": {},
   "source": [
    "Bill generator\n",
    "Mr. Rao has a Supermarket and is struggling to use manual billing. Help Mr. Rao to have an automated billing system using Python\n",
    "1.) It should generate separate bill with bill Id for each customer\n",
    "2.) For each Item Id entered for a Customer, it should include the item and quantity in Bill.\n",
    "3.) Mr. Rao also has a discount system, if a bill total is above Rs. 500, 10% discount, the Item prices are adjusted such that total Bill has a discounted amount. Similarly if bill > Rs. 1000, it is 20% discount.\n",
    "4.) Finally print the bill in a readable format.\n",
    "\n",
    "Note: You may use python libraries (like prettytable or matplotlib or pandas) for better readability"
   ]
  },
  {
   "cell_type": "markdown",
   "id": "538c9f72",
   "metadata": {},
   "source": [
    "### Assignment 5 "
   ]
  },
  {
   "cell_type": "raw",
   "id": "8236f870",
   "metadata": {},
   "source": [
    "Python Class Problem\n",
    "For a class (actual school class) of 10 students, create a python program which generates following stats:\n",
    "1. Mean and median of Height, weight, BMI\n",
    "2. For each student calculates their deviation wrt Height, Weight and BMI. \n",
    "3. For each student following categories, if the BMI <18, Underweight, 18-25 Healthy and if >25 Overweight.\n",
    "4. Print all above data in tabular form. Please take care of alignment.\n",
    "\n",
    "Note: Please use Python Class and object concept only.\n",
    "Sample data:\n",
    "No.   Name    Height    Weight\n",
    "1     Amy     164       60\n",
    "2     Raj     172       90\n",
    "3     Shankar 190       70\n",
    "4     Edwin   181       80\n",
    "5     Priya   155       66\n",
    "6     Arun    178       74\n",
    "7     Sita    174       70\n",
    "8     Luv     169       99\n",
    "9     Mahesh  177       72\n",
    "10    Tarak   171       81"
   ]
  },
  {
   "cell_type": "code",
   "execution_count": 1,
   "id": "6d9973fd",
   "metadata": {},
   "outputs": [
    {
     "name": "stdout",
     "output_type": "stream",
     "text": [
      "End of Assignments, Stay tuned :)\n"
     ]
    }
   ],
   "source": [
    "print(\"End of Assignments, Stay tuned :)\")"
   ]
  },
  {
   "cell_type": "code",
   "execution_count": null,
   "id": "6f5dcaf7",
   "metadata": {},
   "outputs": [],
   "source": []
  }
 ],
 "metadata": {
  "kernelspec": {
   "display_name": "Python 3 (ipykernel)",
   "language": "python",
   "name": "python3"
  },
  "language_info": {
   "codemirror_mode": {
    "name": "ipython",
    "version": 3
   },
   "file_extension": ".py",
   "mimetype": "text/x-python",
   "name": "python",
   "nbconvert_exporter": "python",
   "pygments_lexer": "ipython3",
   "version": "3.7.0b2"
  }
 },
 "nbformat": 4,
 "nbformat_minor": 5
}
