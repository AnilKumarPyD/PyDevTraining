{
 "cells": [
  {
   "cell_type": "markdown",
   "id": "493154ae",
   "metadata": {},
   "source": [
    "# Assignment -Strings1"
   ]
  },
  {
   "cell_type": "markdown",
   "id": "28fb58b5",
   "metadata": {},
   "source": [
    "1. Write a program to count and display the number of capital letters in a given string.\n",
    "2. Write a program (function) to check if the given string is palindrome or not.\n",
    "3. Write a program to count the number of each vowel in a paragraph.\n",
    "4. Write a program to remove all punctuations from the string provided by the user punctuations = \"!()-[]{};:\"\"\\,<>.?@#$%^&*_~`\""
   ]
  },
  {
   "cell_type": "markdown",
   "id": "27b2eefb",
   "metadata": {},
   "source": [
    "# Assignment - Strings2"
   ]
  },
  {
   "cell_type": "markdown",
   "id": "995a83c3",
   "metadata": {},
   "source": [
    "1. Write a Python Program to accept a string and display the resultant string in reverse order. The resultant string should contain all characters at the even position of the accepted string ignoring blank spaces.\n",
    "accepted string: An apple a day keeps the doctor away.\n",
    "resultant_string: Aapedyepteotrwy\n",
    "expected_output: ywrtoetpeydepaA\n",
    "    \n",
    "2. Given a string containing both Upper and lower case letters, write a python program to count the number of repeated characters and display the maximum count of a character along with the character. You should count upper and lower case of a character as same character."
   ]
  },
  {
   "cell_type": "markdown",
   "id": "6ec9debe",
   "metadata": {},
   "source": [
    "# Assignment - Lists"
   ]
  },
  {
   "cell_type": "markdown",
   "id": "04c1021b",
   "metadata": {},
   "source": [
    "1. Write a python program to generate first \"n\" fibonacci numbers. Store the generated Fibonacci numbers in a list and display it. The function should take \"n=input number\" for generating the sequence.\n",
    "\n",
    "2. Given two number lists, ListA and ListB, write a python program to:\n",
    " a. Print the difference of sum of numbers of List A and List B\n",
    " b. Print the highest and lowest numbers in ListA and List B\n",
    " c. Compare List A and List B and generate a list of common elements and list of different elements\n"
   ]
  },
  {
   "cell_type": "markdown",
   "id": "7c13cc66",
   "metadata": {},
   "source": [
    "# Assignment - Tuples"
   ]
  },
  {
   "cell_type": "markdown",
   "id": "26f5a87e",
   "metadata": {},
   "source": [
    "Problem Description: Consider the list of courses opted by a Student “John” and\n",
    "available electives as a part of Student Management System.\n",
    "\n",
    "courses = (“Python Programming”, “RDBMS”, “Web Technology”, “Software Engg”).\n",
    "electives = (“Business Intelligence”, “Big Data Analytics”)\n",
    "\n",
    "Write a Python Program to satisy following business requirements:\n",
    "\n",
    "a. List the number of courses opted by Student by “John”\n",
    "b. List all the courses opted by Student “John”.\n",
    "c. Students “John” is also interested in elective course mentioned above. Print the\n",
    "updated tuple including electives\n",
    "d. Check whether Student “John” is allowed to change his course from “Software\n",
    "Engg” to “Computer Networks”. If yes, print the updated course list else mention\n",
    "the reason for the same."
   ]
  },
  {
   "cell_type": "markdown",
   "id": "9108390a",
   "metadata": {},
   "source": [
    "# Assigment - Sets"
   ]
  },
  {
   "cell_type": "markdown",
   "id": "228f7fca",
   "metadata": {},
   "source": [
    "Consider the scenario from course in student management\n",
    "system. \n",
    "Given below are 2 Sets representing the names of students enrolled for a\n",
    "particular course.\n",
    "\n",
    "java_course = {“John”, “Jack”, “Jill”, “Joe”}\n",
    "python_course = {“Jake”, “John”, “Eric”, “Jill”}\n",
    "\n",
    "Write a Python program to satisy below mentioned business requirements:\n",
    "a. List the number of Students enrolled for Python course\n",
    "b. List the names of Students enrolled for Java course only\n",
    "c. List the names of Students enrolled for Python course only\n",
    "d. List the number and names of Students enrolled for both Java and Python courses\n",
    "e. List the number and names of Students enrolled for either Java or Python courses\n",
    "but not both\n",
    "f. List names and number of Students enrolled for either Java or Python courses"
   ]
  },
  {
   "cell_type": "markdown",
   "id": "b95fc12b",
   "metadata": {},
   "source": [
    "# Assigment - Dictionary"
   ]
  },
  {
   "cell_type": "markdown",
   "id": "3ce497d1",
   "metadata": {},
   "source": [
    "Given below is a Dictionary customer_details representing customer Details from Retail Application - Customer Id is key and Customer Name is value.\n",
    "\n",
    "customer_details = { 1001 : \"John\", 1004 : \"Jill\", 1005: \"Joe\", 1003 : \"Jack\" }\n",
    "\n",
    "Write Python code to perform below mentioned operations:\n",
    "a. Print details of Customers\n",
    "b. Print number of Customers\n",
    "c. Print Customer names in ascending order\n",
    "d. Delete the details of customer with customer id = 1005 and print updated dictionary\n",
    "e. Update the name of customer with customer id = 1003 to “Mary” and print updated\n",
    "dictionary\n",
    "f. Check whether details of customer with customer id 1002 exists in the dictionary."
   ]
  },
  {
   "cell_type": "code",
   "execution_count": 2,
   "id": "76c11584",
   "metadata": {},
   "outputs": [
    {
     "name": "stdout",
     "output_type": "stream",
     "text": [
      "End of assignments\n"
     ]
    }
   ],
   "source": [
    "print(\"End of assignments\")"
   ]
  },
  {
   "cell_type": "code",
   "execution_count": null,
   "id": "d387b192",
   "metadata": {},
   "outputs": [],
   "source": []
  }
 ],
 "metadata": {
  "kernelspec": {
   "display_name": "Python 3 (ipykernel)",
   "language": "python",
   "name": "python3"
  },
  "language_info": {
   "codemirror_mode": {
    "name": "ipython",
    "version": 3
   },
   "file_extension": ".py",
   "mimetype": "text/x-python",
   "name": "python",
   "nbconvert_exporter": "python",
   "pygments_lexer": "ipython3",
   "version": "3.7.0b2"
  }
 },
 "nbformat": 4,
 "nbformat_minor": 5
}
